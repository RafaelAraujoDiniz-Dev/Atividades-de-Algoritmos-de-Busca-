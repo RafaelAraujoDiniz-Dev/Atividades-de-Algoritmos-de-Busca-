{
 "cells": [
  {
   "cell_type": "code",
   "execution_count": 2,
   "id": "ae370d13",
   "metadata": {},
   "outputs": [
    {
     "name": "stdout",
     "output_type": "stream",
     "text": [
      "Menor distância da cidade A\n",
      "Para A: 0\n",
      "Para B: 2\n",
      "Para C: 3\n",
      "Para D: 7\n",
      "Para E: 6\n"
     ]
    }
   ],
   "source": [
    "def dijkstra_lista(grafo, origem):\n",
    "    \"\"\"\n",
    "    Encontra os menores caminhos de um vértice de origem para todos os outros usando Dijkstra.\n",
    "    Implementação usando lista simples em vez de fila de prioridade.\n",
    "    \n",
    "    :param grafo: Grafo representado como lista de adjacência {vértice: [(vizinho, peso), ...]}\n",
    "    :param origem: Vértice de origem\n",
    "    :return: Dicionário com menores distâncias para cada vértice\n",
    "    \"\"\"\n",
    "    # Inicializa as distâncias com infinito\n",
    "    distancias = {vertice: float('inf') for vertice in grafo}\n",
    "    distancias[origem] = 0  # Distância da origem para ela mesma é 0\n",
    "\n",
    "    # Lista de vértices não processados\n",
    "    nao_visitados = list(grafo.keys())\n",
    "    \n",
    "    while nao_visitados:\n",
    "        # Encontra o vértice não processado com a menor distância acumulada\n",
    "        atual = min(nao_visitados, key=lambda vertice: distancias[vertice])\n",
    "        \n",
    "        # Remove o vértice selecionado da lista de não processados\n",
    "        nao_visitados.remove(atual)\n",
    "        \n",
    "        # Atualiza as distâncias dos vizinhos do vértice atual\n",
    "        for vizinho, peso in grafo[atual]:\n",
    "            # Calcula a nova distância acumulada para o vizinho\n",
    "            nova_distancia = distancias[atual] + peso\n",
    "            # Atualiza se a nova distância for menor que a distância atual\n",
    "            if nova_distancia < distancias[vizinho]:\n",
    "                distancias[vizinho] = nova_distancia\n",
    "    \n",
    "    return distancias\n",
    "\n",
    "# Exemplo de Grafo\n",
    "grafo = {\n",
    "    'A': [('B', 2), ('C', 4)],\n",
    "    'B': [('A', 2), ('C', 1), ('D', 7)],\n",
    "    'C': [('A', 4), ('B', 1), ('E', 3)],\n",
    "    'D': [('B', 7), ('E', 1)],\n",
    "    'E': [('C', 3), ('D', 1)],\n",
    "}\n",
    "\n",
    "# Cidade Origem\n",
    "cidade_origem = 'A'\n",
    "caminhos_minimos = dijkstra_lista(grafo, cidade_origem)\n",
    "\n",
    "# Imprime os resultados\n",
    "print(\"Menor distância da cidade\", cidade_origem)\n",
    "for cidade, distancia in caminhos_minimos.items():\n",
    "    print(f\"Para {cidade}: {distancia}\")"
   ]
  }
 ],
 "metadata": {
  "kernelspec": {
   "display_name": "Python 3",
   "language": "python",
   "name": "python3"
  },
  "language_info": {
   "codemirror_mode": {
    "name": "ipython",
    "version": 3
   },
   "file_extension": ".py",
   "mimetype": "text/x-python",
   "name": "python",
   "nbconvert_exporter": "python",
   "pygments_lexer": "ipython3",
   "version": "3.13.4"
  }
 },
 "nbformat": 4,
 "nbformat_minor": 5
}
