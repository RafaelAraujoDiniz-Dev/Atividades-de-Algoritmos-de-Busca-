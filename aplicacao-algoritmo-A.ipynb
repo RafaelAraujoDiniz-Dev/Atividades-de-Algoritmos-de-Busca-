{
 "cells": [
  {
   "cell_type": "code",
   "execution_count": 3,
   "id": "3b3e16d9",
   "metadata": {},
   "outputs": [
    {
     "name": "stdout",
     "output_type": "stream",
     "text": [
      "Caminho mais curto: A -> B -> C -> E\n",
      "Custo total: 6\n"
     ]
    }
   ],
   "source": [
    "import time\n",
    "import sys\n",
    "\n",
    "# Função que implementa o algoritmo A* usando lista simples (sem fila de prioridade)\n",
    "def algoritmo_a_estrela_lista(grafo, heuristica, inicio, objetivo):\n",
    "    \"\"\"\n",
    "    Implementa o Algoritmo A* para encontrar o caminho mais curto.\n",
    "    Utiliza uma lista simples em vez de uma fila de prioridades.\n",
    "    \"\"\"\n",
    "    # Cada elemento da lista_aberta é uma tupla: (f, g, nó_atual, caminho_atual)\n",
    "    # f = custo total estimado (g + heurística), g = custo real até o nó\n",
    "    lista_aberta = [(0 + heuristica[inicio], 0, inicio, [])]\n",
    "    visitados = set()  # Conjunto para armazenar nós já visitados\n",
    "\n",
    "    while lista_aberta:\n",
    "        # Ordena a lista pelo menor f (custo estimado total)\n",
    "        lista_aberta.sort(key=lambda x: x[0])\n",
    "        # Remove o nó com menor f da lista\n",
    "        f_atual, g_atual, no_atual, caminho_atual = lista_aberta.pop(0)\n",
    "\n",
    "        # Se já visitou esse nó, ignora\n",
    "        if no_atual in visitados:\n",
    "            continue\n",
    "\n",
    "        # Atualiza o caminho atual incluindo o nó atual\n",
    "        caminho_atual = caminho_atual + [no_atual]\n",
    "        # Marca o nó como visitado\n",
    "        visitados.add(no_atual)\n",
    "\n",
    "        # Se chegou ao objetivo, retorna o caminho e o custo\n",
    "        if no_atual == objetivo:\n",
    "            return caminho_atual, g_atual\n",
    "\n",
    "        # Para cada vizinho do nó atual\n",
    "        for vizinho, custo in grafo[no_atual]:\n",
    "            # Se o vizinho ainda não foi visitado\n",
    "            if vizinho not in visitados:\n",
    "                novo_g = g_atual + custo  # Novo custo real até o vizinho\n",
    "                novo_f = novo_g + heuristica[vizinho]  # Novo custo estimado total\n",
    "                # Adiciona o vizinho à lista aberta com o novo caminho\n",
    "                lista_aberta.append((novo_f, novo_g, vizinho, caminho_atual))\n",
    "\n",
    "    # Se não encontrar caminho, retorna None e infinito\n",
    "    return None, float('inf')\n",
    "\n",
    "\n",
    "# Exemplo de Grafo (dicionário de listas de tuplas: (vizinho, peso))\n",
    "grafo_exemplo = {\n",
    "    'A': [('B', 2), ('C', 4)],\n",
    "    'B': [('A', 2), ('C', 1), ('D', 7)],\n",
    "    'C': [('A', 4), ('B', 1), ('E', 3)],\n",
    "    'D': [('B', 7), ('E', 1)],\n",
    "    'E': [('C', 3), ('D', 1)],\n",
    "}\n",
    "\n",
    "# Heurística estimada para cada nó (exemplo)\n",
    "heuristica_exemplo = {\n",
    "    'A': 6,\n",
    "    'B': 4,\n",
    "    'C': 2,\n",
    "    'D': 1,\n",
    "    'E': 0,\n",
    "}\n",
    "\n",
    "# Define o nó inicial e o nó objetivo\n",
    "no_inicio = 'A'\n",
    "no_objetivo = 'E'\n",
    "\n",
    "# Executa o algoritmo A* e obtém o caminho e custo\n",
    "caminho, custo = algoritmo_a_estrela_lista(grafo_exemplo, heuristica_exemplo, no_inicio, no_objetivo)\n",
    "\n",
    "# Exibe o resultado\n",
    "print(\"Caminho mais curto:\", \" -> \".join(caminho))\n",
    "print(\"Custo total:\", custo)"
   ]
  }
 ],
 "metadata": {
  "kernelspec": {
   "display_name": "Python 3",
   "language": "python",
   "name": "python3"
  },
  "language_info": {
   "codemirror_mode": {
    "name": "ipython",
    "version": 3
   },
   "file_extension": ".py",
   "mimetype": "text/x-python",
   "name": "python",
   "nbconvert_exporter": "python",
   "pygments_lexer": "ipython3",
   "version": "3.13.4"
  }
 },
 "nbformat": 4,
 "nbformat_minor": 5
}
