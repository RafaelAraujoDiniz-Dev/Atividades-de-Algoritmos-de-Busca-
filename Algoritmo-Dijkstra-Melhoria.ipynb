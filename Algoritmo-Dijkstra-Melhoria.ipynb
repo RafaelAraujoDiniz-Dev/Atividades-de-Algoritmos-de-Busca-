{
 "cells": [
  {
   "cell_type": "code",
   "execution_count": 2,
   "id": "35327dee",
   "metadata": {},
   "outputs": [
    {
     "name": "stdout",
     "output_type": "stream",
     "text": [
      "Menor distância da cidade A\n",
      "Para A: 0\n",
      "  Caminho: A\n",
      "Para B: 2\n",
      "  Caminho: A -> B\n",
      "Para C: 3\n",
      "  Caminho: A -> B -> C\n",
      "Para D: 7\n",
      "  Caminho: A -> B -> C -> E -> D\n",
      "Para E: 6\n",
      "  Caminho: A -> B -> C -> E\n"
     ]
    }
   ],
   "source": [
    "def dijkstra_lista_melhorada(grafo, inicio):\n",
    "    \"\"\"\n",
    "    Encontra os menores caminhos de um vértice de origem para todos os outros usando Dijkstra.\n",
    "    Retorna as menores distâncias e os caminhos percorridos.\n",
    "    \"\"\"\n",
    "    dist_minima = {vertice: float('inf') for vertice in grafo}\n",
    "    dist_minima[inicio] = 0\n",
    "\n",
    "    predecessores = {vertice: None for vertice in grafo}\n",
    "    nao_processados = list(grafo.keys())\n",
    "\n",
    "    while nao_processados:\n",
    "        atual = min(nao_processados, key=lambda v: dist_minima[v])\n",
    "        nao_processados.remove(atual)\n",
    "\n",
    "        for vizinho, peso in grafo[atual]:\n",
    "            nova_dist = dist_minima[atual] + peso\n",
    "            if nova_dist < dist_minima[vizinho]:\n",
    "                dist_minima[vizinho] = nova_dist\n",
    "                predecessores[vizinho] = atual\n",
    "\n",
    "    return dist_minima, predecessores\n",
    "\n",
    "def reconstruir_caminho(predecessores, inicio, fim):\n",
    "    caminho = []\n",
    "    vertice_atual = fim\n",
    "\n",
    "    while vertice_atual is not None:\n",
    "        caminho.append(vertice_atual)\n",
    "        vertice_atual = predecessores[vertice_atual]\n",
    "\n",
    "    caminho.reverse()\n",
    "\n",
    "    if not caminho or caminho[0] != inicio:\n",
    "        return []\n",
    "\n",
    "    return caminho\n",
    "\n",
    "# Exemplo de Grafo\n",
    "grafo_exemplo = {\n",
    "    'A': [('B', 2), ('C', 4)],\n",
    "    'B': [('A', 2), ('C', 1), ('D', 7)],\n",
    "    'C': [('A', 4), ('B', 1), ('E', 3)],\n",
    "    'D': [('B', 7), ('E', 1)],\n",
    "    'E': [('C', 3), ('D', 1)],\n",
    "}\n",
    "\n",
    "# Cidade Origem\n",
    "origem = 'A'\n",
    "distancias_finais, predecessores_finais = dijkstra_lista_melhorada(grafo_exemplo, origem)\n",
    "\n",
    "print(\"Menor distância da cidade\", origem)\n",
    "for cidade, distancia in distancias_finais.items():\n",
    "    print(f\"Para {cidade}: {distancia}\")\n",
    "    caminho = reconstruir_caminho(predecessores_finais, origem, cidade)\n",
    "    print(f\"  Caminho: {' -> '.join(caminho)}\")"
   ]
  }
 ],
 "metadata": {
  "kernelspec": {
   "display_name": "Python 3",
   "language": "python",
   "name": "python3"
  },
  "language_info": {
   "codemirror_mode": {
    "name": "ipython",
    "version": 3
   },
   "file_extension": ".py",
   "mimetype": "text/x-python",
   "name": "python",
   "nbconvert_exporter": "python",
   "pygments_lexer": "ipython3",
   "version": "3.13.4"
  }
 },
 "nbformat": 4,
 "nbformat_minor": 5
}
